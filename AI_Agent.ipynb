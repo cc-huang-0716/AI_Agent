!pip install yfinance langchain-community sentence_transformers faiss-cpu
import os
import re
import requests
import numpy as np
import pandas as pd
import yfinance as yf
from langchain_community.llms import HuggingFaceEndpoint
from langchain_community.embeddings import HuggingFaceEmbeddings
from langchain_community.vectorstores import FAISS
from langchain.agents import initialize_agent, Tool, AgentType
from langchain.prompts import ChatPromptTemplate
from langchain.memory import ConversationBufferMemory

# 設定 Hugging Face Token
os.environ["HUGGINGFACEHUB_API_TOKEN"] = "YOUR_API_TOKEN"

# 下載 txt 檔案
def download_txt_from_url(url, save_path):
    response = requests.get(url)
    response.raise_for_status()
    with open(save_path, "w", encoding="utf-8") as f:
        f.write(response.text)

txt_url = "   https://drive.google.com/uc?id=1w9gy6GJYbUxtqqTrcdu4su3N6cyexYME&export=download"
txt_path = "AI_Agent.txt"
download_txt_from_url(txt_url, txt_path)

# 讀取 txt 文件並分段
def load_txt_chunks(txt_path):
    with open(txt_path, "r", encoding="utf-8") as f:
        text = f.read()
    chunks = text.split('\n# ')
    if not chunks[0].startswith('#'):
        chunks[0] = '# ' + chunks[0]
    chunks = ['# ' + chunk.strip() for chunk in chunks if chunk.strip()]
    return chunks

txt_chunks = load_txt_chunks(txt_path)

# 建立向量資料庫（Hugging Face Embedding）
embeddings = HuggingFaceEmbeddings(model_name="sentence-transformers/all-MiniLM-L6-v2")
vectorstore = FAISS.from_texts(txt_chunks, embeddings)
retriever = vectorstore.as_retriever()

# txt 查詢工具（只吃一個 string）
def txt_query_tool_func(query: str) -> str:
    docs = retriever.invoke(query)
    if not docs:
        return "查無相關內容。"
    return "\n".join([doc.page_content for doc in docs[:3]])

txt_query_tool = Tool(
    name="txt_query_tool",
    func=txt_query_tool_func,
    description="根據用戶問題檢索txt文件內容，直接輸入你的問題即可"
)

# 波動率工具
def get_portfolio_volatility(query: str) -> str:
    # 預期 query 格式: "AAPL,MSFT,GOOGL;0.4,0.3,0.3"
    try:
        tickers_str, weights_str = query.split(";")
        tickers_list = [t.strip() for t in tickers_str.split(",") if t.strip()]
        weights_list = [float(w) for w in weights_str.split(",") if w.strip()]
        if len(tickers_list) != len(weights_list):
            return f"股票代碼數量（{len(tickers_list)}）與權重數量（{len(weights_list)}）不一致，請重新輸入。"
        if not np.isclose(sum(weights_list), 1.0):
            return "權重加總必須為 1，請重新輸入。"
        for t in tickers_list:
            if not t.isalpha():
                return f"股票代碼「{t}」格式不正確，請檢查輸入。"
        data = yf.download(tickers_list, period='1y')['Close']
        if data.empty:
            return "下載股票資料失敗，請檢查股票代碼是否正確或稍後再試。"
        if isinstance(data, pd.Series):
            data = data.to_frame()
        returns = data.pct_change().dropna()
        cov_matrix = returns.cov()
        volatility = (np.dot(weights_list, np.dot(cov_matrix, weights_list))) ** 0.5
        return f"Portfolio Volatility: {volatility:.2%}"
    except Exception as e:
        return f"計算時發生錯誤: {str(e)}"

get_portfolio_volatility_tool = Tool(
    name="get_portfolio_volatility",
    func=get_portfolio_volatility,
    description="計算資產組合波動率。輸入格式：股票代碼以逗號分隔，權重以逗號分隔，中間用分號分隔。例如：AAPL,MSFT,GOOGL;0.4,0.3,0.3"
)

# 外部 LLM 查詢工具（只吃一個 string）
# 初始化 Hugging Face LLM
llm = HuggingFaceEndpoint(
    repo_id="meta-llama/Llama-2-7b-chat-hf",
    temperature=0.7,
    huggingfacehub_api_token=os.environ["HUGGINGFACEHUB_API_TOKEN"]
)

def external_api_response_func(query: str) -> str:
    return llm.invoke(query)

external_api_response_tool = Tool(
    name="external_api_response",
    func=external_api_response_func,
    description="用 Hugging Face LLM 回答一般問題，直接輸入你的問題即可"
)

# Agent 初始化
tools = [get_portfolio_volatility_tool, txt_query_tool, external_api_response_tool]

memory = ConversationBufferMemory(memory_key="history", return_messages=True)

agent_executor = initialize_agent(
    tools,
    llm,
    agent=AgentType.ZERO_SHOT_REACT_DESCRIPTION,
    memory=memory,
    verbose=True
)

# 主程式
if __name__ == "__main__":
    mode = input("請選擇查詢類型：1. 資產組合波動率 2. 金融知識查詢 3. 一般查詢\n")
    if mode == "1":
        tickers = input("請輸入股票代碼（以逗號分隔，例如 AAPL,MSFT,GOOGL）：")
        weights = input("請輸入各股票權重（以逗號分隔，例如 0.4,0.3,0.3）：")
        query = f"{tickers};{weights}"
        tool_name = "get_portfolio_volatility"
    elif mode == "2":
        query = input("請輸入你想查詢金融知識的問題：")
        tool_name = "txt_query_tool"
    else:
        query = input("請輸入你的問題：")
        tool_name = "external_api_response"

    # 直接呼叫對應工具
    for tool in tools:
        if tool.name == tool_name:
            output_str = tool.func(query)
            break
    print(output_str)

    # 如果是波動率查詢，額外給建議
    if mode == "1":
        match = re.search(r"([\d.]+)%", output_str)
        if match:
            volatility = float(match.group(1)) / 100
            if volatility >= 0.2:
                print("您的資產組合波動性大於20%，請注意風險!")
            elif 0.1 <= volatility <= 0.2:
                print("您的資產組合波動性介於10%至20%之間，仍須注意後續市場變動!")
            else:
                print("您的資產組合波動性較小，可能適合長期持有，但仍需定期關注市場變化!")
        else:
            print("無法解析波動率數值，請檢查輸入或回應格式。")
